{
 "cells": [
  {
   "cell_type": "code",
   "execution_count": 1,
   "metadata": {
    "collapsed": false,
    "deletable": true,
    "editable": true
   },
   "outputs": [
    {
     "name": "stdout",
     "output_type": "stream",
     "text": [
      "CPU times: user 44 ms, sys: 16 ms, total: 60 ms\n",
      "Wall time: 2.84 s\n"
     ]
    }
   ],
   "source": [
    "%%time\n",
    "! python A0_explore_data.py"
   ]
  },
  {
   "cell_type": "code",
   "execution_count": 2,
   "metadata": {
    "collapsed": false,
    "deletable": true,
    "editable": true
   },
   "outputs": [
    {
     "name": "stdout",
     "output_type": "stream",
     "text": [
      "CPU times: user 576 ms, sys: 184 ms, total: 760 ms\n",
      "Wall time: 33.9 s\n"
     ]
    }
   ],
   "source": [
    "%%time\n",
    "! cp /input/data_ori/* /input/ \n",
    "#! python A1_sample_dataset.py"
   ]
  },
  {
   "cell_type": "code",
   "execution_count": 3,
   "metadata": {
    "collapsed": false,
    "deletable": true,
    "editable": true
   },
   "outputs": [
    {
     "name": "stdout",
     "output_type": "stream",
     "text": [
      "Iteration is stopped\n",
      "Iteration is stopped\n",
      "Iteration is stopped\n",
      "CPU times: user 4.58 s, sys: 1.25 s, total: 5.83 s\n",
      "Wall time: 4min 20s\n"
     ]
    }
   ],
   "source": [
    "%%time\n",
    "! python B1_create_item_table.py"
   ]
  },
  {
   "cell_type": "code",
   "execution_count": 4,
   "metadata": {
    "collapsed": false,
    "deletable": true,
    "editable": true
   },
   "outputs": [
    {
     "name": "stdout",
     "output_type": "stream",
     "text": [
      "Iteration is stopped\n",
      "Iteration is stopped\n",
      "Iteration is stopped\n",
      "CPU times: user 12 s, sys: 3.74 s, total: 15.8 s\n",
      "Wall time: 12min 31s\n"
     ]
    }
   ],
   "source": [
    "%%time\n",
    "! python B2_create_user_table.py"
   ]
  },
  {
   "cell_type": "markdown",
   "metadata": {
    "deletable": true,
    "editable": true
   },
   "source": [
    "# 京东JData算法大赛(1)-数据清洗"
   ]
  },
  {
   "cell_type": "markdown",
   "metadata": {
    "deletable": true,
    "editable": true
   },
   "source": [
    "  比赛的题目是高潜用户的购买意向的预测,从机器学习的角度来讲我们可以认为这是一个二分类的任务.那么我们就是尝试去构建自己的正负样本.  \n",
    "  由于我们拿到的是原始数据,里面存在很多噪声,因而第一步我们先要对数据清洗,比如说:  \n",
    "- 去掉只有购买记录的用户(没有可用的历史浏览等记录来预测用户将来的购买意向)  \n",
    "- 去掉浏览量很大而购买量很少的用户(惰性用户或爬虫用户)\n",
    "- 去掉最后5(7)天没有记录(交互)的商品和用户\n",
    "- ......"
   ]
  },
  {
   "cell_type": "markdown",
   "metadata": {
    "deletable": true,
    "editable": true
   },
   "source": [
    "为了能够进行上述清洗,在此首先构造了简单的用户(user)行为特征和商品(item)行为行为特征,对应于两张表user_table和item_table\n",
    "- **user_table**特征包括:  \n",
    "  user_id(用户id),age(年龄),sex(性别),  \n",
    "  user_lv_cd(用户级别),browse_num(浏览数),  \n",
    "  addcart_num(加购数),delcart_num(删购数),  \n",
    "  buy_num(购买数),favor_num(收藏数),  \n",
    "  click_num(点击数),buy_addcart_ratio(购买加购转化率),  \n",
    "  buy_browse_ratio(购买浏览转化率),  \n",
    "  buy_click_ratio(购买点击转化率),  \n",
    "  buy_favor_ratio(购买收藏转化率)  \n",
    "- **item_table**特征包括:  \n",
    "  sku_id(商品id),attr1,attr2,  \n",
    "  attr3,cate,brand,browse_num,  \n",
    "  addcart_num,delcart_num,  \n",
    "  buy_num,favor_num,click_num,  \n",
    "  buy_addcart_ratio,buy_browse_ratio,  \n",
    "  buy_click_ratio,buy_favor_ratio,  \n",
    "  comment_num(评论数),  \n",
    "  has_bad_comment(是否有差评),  \n",
    "  bad_comment_rate(差评率)"
   ]
  },
  {
   "cell_type": "code",
   "execution_count": 5,
   "metadata": {
    "collapsed": true,
    "deletable": true,
    "editable": true
   },
   "outputs": [],
   "source": [
    "# 定义文件名\n",
    "ACTION_201602_FILE = \"/input/JData_Action_201602.csv\"\n",
    "ACTION_201603_FILE = \"/input/JData_Action_201603.csv\"\n",
    "ACTION_201604_FILE = \"/input/JData_Action_201604.csv\"\n",
    "COMMENT_FILE = \"/input/JData_Comment.csv\"\n",
    "PRODUCT_FILE = \"/input/JData_Product.csv\"\n",
    "USER_FILE = \"/input/JData_User.csv\"\n",
    "NEW_USER_FILE = \"/input/JData_User_New.csv\"\n",
    "USER_TABLE_FILE = \"/input/user_table.csv\"\n",
    "ITEM_TABLE_FILE = \"/input/item_table.csv\""
   ]
  },
  {
   "cell_type": "code",
   "execution_count": 6,
   "metadata": {
    "collapsed": true,
    "deletable": true,
    "editable": true
   },
   "outputs": [],
   "source": [
    "# 导入相关包\n",
    "import pandas as pd\n",
    "import numpy as np\n",
    "from collections import Counter\n",
    "\n",
    "import os"
   ]
  },
  {
   "cell_type": "markdown",
   "metadata": {
    "deletable": true,
    "editable": true
   },
   "source": [
    "接下来以构建user_table为例,item_table与之类似."
   ]
  },
  {
   "cell_type": "code",
   "execution_count": 7,
   "metadata": {
    "collapsed": true,
    "deletable": true,
    "editable": true
   },
   "outputs": [],
   "source": [
    "# 功能函数: 对每一个user分组的数据进行统计\n",
    "def add_type_count(group):\n",
    "    behavior_type = group.type.astype(int)\n",
    "    # 用户行为类别\n",
    "    type_cnt = Counter(behavior_type)\n",
    "    # 1: 浏览 2: 加购 3: 删除\n",
    "    # 4: 购买 5: 收藏 6: 点击\n",
    "    group['browse_num'] = type_cnt[1]\n",
    "    group['addcart_num'] = type_cnt[2]\n",
    "    group['delcart_num'] = type_cnt[3]\n",
    "    group['buy_num'] = type_cnt[4]\n",
    "    group['favor_num'] = type_cnt[5]\n",
    "    group['click_num'] = type_cnt[6]\n",
    "\n",
    "    return group[['user_id', 'browse_num', 'addcart_num',\n",
    "                  'delcart_num', 'buy_num', 'favor_num',\n",
    "                  'click_num']]"
   ]
  },
  {
   "cell_type": "markdown",
   "metadata": {
    "deletable": true,
    "editable": true
   },
   "source": [
    "由于用户行为数据量较大,一次性读入可能造成内存错误(Memory Error),因而使用pandas的分块(chunk)读取."
   ]
  },
  {
   "cell_type": "code",
   "execution_count": 8,
   "metadata": {
    "collapsed": true,
    "deletable": true,
    "editable": true
   },
   "outputs": [],
   "source": [
    "#　对action数据进行统计\n",
    "# 根据自己的需求调节chunk_size大小\n",
    "def get_from_action_data(fname, chunk_size=100000):\n",
    "    reader = pd.read_csv(fname, header=0, iterator=True)\n",
    "    chunks = []\n",
    "    loop = True\n",
    "    while loop:\n",
    "        try:\n",
    "            # 只读取user_id和type两个字段\n",
    "            chunk = reader.get_chunk(chunk_size)[[\"user_id\", \"type\"]]\n",
    "            chunks.append(chunk)\n",
    "        except StopIteration:\n",
    "            loop = False\n",
    "            print(\"Iteration is stopped\")\n",
    "    # 将块拼接为pandas dataframe格式\n",
    "    df_ac = pd.concat(chunks, ignore_index=True)\n",
    "    # 按user_id分组，对每一组进行统计\n",
    "    df_ac = df_ac.groupby(['user_id'], as_index=False).apply(add_type_count)\n",
    "    # 将重复的行丢弃\n",
    "    df_ac = df_ac.drop_duplicates('user_id')\n",
    "\n",
    "    return df_ac"
   ]
  },
  {
   "cell_type": "code",
   "execution_count": 9,
   "metadata": {
    "collapsed": true,
    "deletable": true,
    "editable": true
   },
   "outputs": [],
   "source": [
    "# 将各个action数据的统计量进行聚合\n",
    "def merge_action_data():\n",
    "    df_ac = []\n",
    "    df_ac.append(get_from_action_data(fname=ACTION_201602_FILE))\n",
    "    df_ac.append(get_from_action_data(fname=ACTION_201603_FILE))\n",
    "    df_ac.append(get_from_action_data(fname=ACTION_201604_FILE))\n",
    "\n",
    "    df_ac = pd.concat(df_ac, ignore_index=True)\n",
    "    # 用户在不同action表中统计量求和\n",
    "    df_ac = df_ac.groupby(['user_id'], as_index=False).sum()\n",
    "    #　构造转化率字段\n",
    "    df_ac['buy_addcart_ratio'] = df_ac['buy_num'] / df_ac['addcart_num']\n",
    "    df_ac['buy_browse_ratio'] = df_ac['buy_num'] / df_ac['browse_num']\n",
    "    df_ac['buy_click_ratio'] = df_ac['buy_num'] / df_ac['click_num']\n",
    "    df_ac['buy_favor_ratio'] = df_ac['buy_num'] / df_ac['favor_num']\n",
    "    \n",
    "    # 将大于１的转化率字段置为１(100%)\n",
    "    df_ac.ix[df_ac['buy_addcart_ratio'] > 1., 'buy_addcart_ratio'] = 1.\n",
    "    df_ac.ix[df_ac['buy_browse_ratio'] > 1., 'buy_browse_ratio'] = 1.\n",
    "    df_ac.ix[df_ac['buy_click_ratio'] > 1., 'buy_click_ratio'] = 1.\n",
    "    df_ac.ix[df_ac['buy_favor_ratio'] > 1., 'buy_favor_ratio'] = 1.\n",
    "\n",
    "    return df_ac"
   ]
  },
  {
   "cell_type": "code",
   "execution_count": 10,
   "metadata": {
    "collapsed": false,
    "deletable": true,
    "editable": true
   },
   "outputs": [],
   "source": [
    "#　从JData_User表中抽取需要的字段\n",
    "def get_from_jdata_user():\n",
    "    df_usr = pd.read_csv(NEW_USER_FILE, header=0)\n",
    "    df_usr = df_usr[[\"user_id\", \"age\", \"sex\", \"user_lv_cd\"]]\n",
    "    return df_usr"
   ]
  },
  {
   "cell_type": "markdown",
   "metadata": {
    "deletable": true,
    "editable": true
   },
   "source": [
    "构建user table的main函数"
   ]
  },
  {
   "cell_type": "code",
   "execution_count": 11,
   "metadata": {
    "collapsed": false,
    "deletable": true,
    "editable": true
   },
   "outputs": [
    {
     "name": "stdout",
     "output_type": "stream",
     "text": [
      "Iteration is stopped\n",
      "Iteration is stopped\n",
      "Iteration is stopped\n"
     ]
    }
   ],
   "source": [
    "user_base = get_from_jdata_user()\n",
    "user_behavior = merge_action_data()\n",
    "\n",
    "# 连接成一张表，类似于SQL的左连接(left join)\n",
    "user_behavior = pd.merge(user_base, user_behavior, on=['user_id'], how='left')\n",
    "# 保存为user_table.csv\n",
    "user_behavior.to_csv(USER_TABLE_FILE, index=False)"
   ]
  },
  {
   "cell_type": "markdown",
   "metadata": {
    "deletable": true,
    "editable": true
   },
   "source": [
    "item table的构建过程与user table的类似，这里直接运行我事先写好的脚本．"
   ]
  },
  {
   "cell_type": "markdown",
   "metadata": {
    "deletable": true,
    "editable": true
   },
   "source": [
    "### 数据清洗"
   ]
  },
  {
   "cell_type": "code",
   "execution_count": 12,
   "metadata": {
    "collapsed": false,
    "deletable": true,
    "editable": true,
    "scrolled": true
   },
   "outputs": [
    {
     "data": {
      "text/html": [
       "<div>\n",
       "<table border=\"1\" class=\"dataframe\">\n",
       "  <thead>\n",
       "    <tr style=\"text-align: right;\">\n",
       "      <th></th>\n",
       "      <th>user_id</th>\n",
       "      <th>age</th>\n",
       "      <th>sex</th>\n",
       "      <th>user_lv_cd</th>\n",
       "      <th>browse_num</th>\n",
       "      <th>addcart_num</th>\n",
       "      <th>delcart_num</th>\n",
       "      <th>buy_num</th>\n",
       "      <th>favor_num</th>\n",
       "      <th>click_num</th>\n",
       "      <th>buy_addcart_ratio</th>\n",
       "      <th>buy_browse_ratio</th>\n",
       "      <th>buy_click_ratio</th>\n",
       "      <th>buy_favor_ratio</th>\n",
       "    </tr>\n",
       "  </thead>\n",
       "  <tbody>\n",
       "    <tr>\n",
       "      <th>0</th>\n",
       "      <td>200001</td>\n",
       "      <td>5</td>\n",
       "      <td>2.0</td>\n",
       "      <td>5</td>\n",
       "      <td>212.0</td>\n",
       "      <td>22.0</td>\n",
       "      <td>13.0</td>\n",
       "      <td>1.0</td>\n",
       "      <td>0.0</td>\n",
       "      <td>414.0</td>\n",
       "      <td>0.045455</td>\n",
       "      <td>0.004717</td>\n",
       "      <td>0.002415</td>\n",
       "      <td>1.0</td>\n",
       "    </tr>\n",
       "    <tr>\n",
       "      <th>1</th>\n",
       "      <td>200002</td>\n",
       "      <td>-1</td>\n",
       "      <td>0.0</td>\n",
       "      <td>1</td>\n",
       "      <td>238.0</td>\n",
       "      <td>1.0</td>\n",
       "      <td>0.0</td>\n",
       "      <td>0.0</td>\n",
       "      <td>0.0</td>\n",
       "      <td>484.0</td>\n",
       "      <td>0.000000</td>\n",
       "      <td>0.000000</td>\n",
       "      <td>0.000000</td>\n",
       "      <td>NaN</td>\n",
       "    </tr>\n",
       "    <tr>\n",
       "      <th>2</th>\n",
       "      <td>200003</td>\n",
       "      <td>3</td>\n",
       "      <td>1.0</td>\n",
       "      <td>4</td>\n",
       "      <td>221.0</td>\n",
       "      <td>4.0</td>\n",
       "      <td>1.0</td>\n",
       "      <td>0.0</td>\n",
       "      <td>1.0</td>\n",
       "      <td>420.0</td>\n",
       "      <td>0.000000</td>\n",
       "      <td>0.000000</td>\n",
       "      <td>0.000000</td>\n",
       "      <td>0.0</td>\n",
       "    </tr>\n",
       "    <tr>\n",
       "      <th>3</th>\n",
       "      <td>200004</td>\n",
       "      <td>-1</td>\n",
       "      <td>2.0</td>\n",
       "      <td>1</td>\n",
       "      <td>52.0</td>\n",
       "      <td>0.0</td>\n",
       "      <td>0.0</td>\n",
       "      <td>0.0</td>\n",
       "      <td>0.0</td>\n",
       "      <td>61.0</td>\n",
       "      <td>NaN</td>\n",
       "      <td>0.000000</td>\n",
       "      <td>0.000000</td>\n",
       "      <td>NaN</td>\n",
       "    </tr>\n",
       "    <tr>\n",
       "      <th>4</th>\n",
       "      <td>200005</td>\n",
       "      <td>1</td>\n",
       "      <td>0.0</td>\n",
       "      <td>4</td>\n",
       "      <td>106.0</td>\n",
       "      <td>2.0</td>\n",
       "      <td>3.0</td>\n",
       "      <td>1.0</td>\n",
       "      <td>2.0</td>\n",
       "      <td>161.0</td>\n",
       "      <td>0.500000</td>\n",
       "      <td>0.009434</td>\n",
       "      <td>0.006211</td>\n",
       "      <td>0.5</td>\n",
       "    </tr>\n",
       "  </tbody>\n",
       "</table>\n",
       "</div>"
      ],
      "text/plain": [
       "   user_id  age  sex  user_lv_cd  browse_num  addcart_num  delcart_num  \\\n",
       "0   200001    5  2.0           5       212.0         22.0         13.0   \n",
       "1   200002   -1  0.0           1       238.0          1.0          0.0   \n",
       "2   200003    3  1.0           4       221.0          4.0          1.0   \n",
       "3   200004   -1  2.0           1        52.0          0.0          0.0   \n",
       "4   200005    1  0.0           4       106.0          2.0          3.0   \n",
       "\n",
       "   buy_num  favor_num  click_num  buy_addcart_ratio  buy_browse_ratio  \\\n",
       "0      1.0        0.0      414.0           0.045455          0.004717   \n",
       "1      0.0        0.0      484.0           0.000000          0.000000   \n",
       "2      0.0        1.0      420.0           0.000000          0.000000   \n",
       "3      0.0        0.0       61.0                NaN          0.000000   \n",
       "4      1.0        2.0      161.0           0.500000          0.009434   \n",
       "\n",
       "   buy_click_ratio  buy_favor_ratio  \n",
       "0         0.002415              1.0  \n",
       "1         0.000000              NaN  \n",
       "2         0.000000              0.0  \n",
       "3         0.000000              NaN  \n",
       "4         0.006211              0.5  "
      ]
     },
     "execution_count": 12,
     "metadata": {},
     "output_type": "execute_result"
    }
   ],
   "source": [
    "df_usr = pd.read_csv(USER_TABLE_FILE, header=0)\n",
    "\n",
    "# 输出前5行数据\n",
    "df_usr.head(5)"
   ]
  },
  {
   "cell_type": "code",
   "execution_count": 13,
   "metadata": {
    "collapsed": false,
    "deletable": true,
    "editable": true
   },
   "outputs": [
    {
     "data": {
      "text/html": [
       "<div>\n",
       "<table border=\"1\" class=\"dataframe\">\n",
       "  <thead>\n",
       "    <tr style=\"text-align: right;\">\n",
       "      <th></th>\n",
       "      <th>user_id</th>\n",
       "      <th>age</th>\n",
       "      <th>sex</th>\n",
       "      <th>user_lv_cd</th>\n",
       "      <th>browse_num</th>\n",
       "      <th>addcart_num</th>\n",
       "      <th>delcart_num</th>\n",
       "      <th>buy_num</th>\n",
       "      <th>favor_num</th>\n",
       "      <th>click_num</th>\n",
       "      <th>buy_addcart_ratio</th>\n",
       "      <th>buy_browse_ratio</th>\n",
       "      <th>buy_click_ratio</th>\n",
       "      <th>buy_favor_ratio</th>\n",
       "    </tr>\n",
       "  </thead>\n",
       "  <tbody>\n",
       "    <tr>\n",
       "      <th>105314</th>\n",
       "      <td>305315</td>\n",
       "      <td>3</td>\n",
       "      <td>2.0</td>\n",
       "      <td>2</td>\n",
       "      <td>12.0</td>\n",
       "      <td>0.0</td>\n",
       "      <td>0.0</td>\n",
       "      <td>0.0</td>\n",
       "      <td>0.0</td>\n",
       "      <td>19.0</td>\n",
       "      <td>NaN</td>\n",
       "      <td>0.0</td>\n",
       "      <td>0.0</td>\n",
       "      <td>NaN</td>\n",
       "    </tr>\n",
       "    <tr>\n",
       "      <th>105315</th>\n",
       "      <td>305316</td>\n",
       "      <td>3</td>\n",
       "      <td>1.0</td>\n",
       "      <td>2</td>\n",
       "      <td>20.0</td>\n",
       "      <td>0.0</td>\n",
       "      <td>0.0</td>\n",
       "      <td>0.0</td>\n",
       "      <td>0.0</td>\n",
       "      <td>16.0</td>\n",
       "      <td>NaN</td>\n",
       "      <td>0.0</td>\n",
       "      <td>0.0</td>\n",
       "      <td>NaN</td>\n",
       "    </tr>\n",
       "    <tr>\n",
       "      <th>105318</th>\n",
       "      <td>305319</td>\n",
       "      <td>2</td>\n",
       "      <td>0.0</td>\n",
       "      <td>3</td>\n",
       "      <td>590.0</td>\n",
       "      <td>3.0</td>\n",
       "      <td>0.0</td>\n",
       "      <td>0.0</td>\n",
       "      <td>0.0</td>\n",
       "      <td>1189.0</td>\n",
       "      <td>0.0</td>\n",
       "      <td>0.0</td>\n",
       "      <td>0.0</td>\n",
       "      <td>NaN</td>\n",
       "    </tr>\n",
       "    <tr>\n",
       "      <th>105319</th>\n",
       "      <td>305320</td>\n",
       "      <td>3</td>\n",
       "      <td>2.0</td>\n",
       "      <td>2</td>\n",
       "      <td>68.0</td>\n",
       "      <td>1.0</td>\n",
       "      <td>0.0</td>\n",
       "      <td>0.0</td>\n",
       "      <td>0.0</td>\n",
       "      <td>150.0</td>\n",
       "      <td>0.0</td>\n",
       "      <td>0.0</td>\n",
       "      <td>0.0</td>\n",
       "      <td>NaN</td>\n",
       "    </tr>\n",
       "    <tr>\n",
       "      <th>105320</th>\n",
       "      <td>305321</td>\n",
       "      <td>3</td>\n",
       "      <td>2.0</td>\n",
       "      <td>3</td>\n",
       "      <td>38.0</td>\n",
       "      <td>0.0</td>\n",
       "      <td>0.0</td>\n",
       "      <td>0.0</td>\n",
       "      <td>0.0</td>\n",
       "      <td>0.0</td>\n",
       "      <td>NaN</td>\n",
       "      <td>0.0</td>\n",
       "      <td>NaN</td>\n",
       "      <td>NaN</td>\n",
       "    </tr>\n",
       "  </tbody>\n",
       "</table>\n",
       "</div>"
      ],
      "text/plain": [
       "        user_id  age  sex  user_lv_cd  browse_num  addcart_num  delcart_num  \\\n",
       "105314   305315    3  2.0           2        12.0          0.0          0.0   \n",
       "105315   305316    3  1.0           2        20.0          0.0          0.0   \n",
       "105318   305319    2  0.0           3       590.0          3.0          0.0   \n",
       "105319   305320    3  2.0           2        68.0          1.0          0.0   \n",
       "105320   305321    3  2.0           3        38.0          0.0          0.0   \n",
       "\n",
       "        buy_num  favor_num  click_num  buy_addcart_ratio  buy_browse_ratio  \\\n",
       "105314      0.0        0.0       19.0                NaN               0.0   \n",
       "105315      0.0        0.0       16.0                NaN               0.0   \n",
       "105318      0.0        0.0     1189.0                0.0               0.0   \n",
       "105319      0.0        0.0      150.0                0.0               0.0   \n",
       "105320      0.0        0.0        0.0                NaN               0.0   \n",
       "\n",
       "        buy_click_ratio  buy_favor_ratio  \n",
       "105314              0.0              NaN  \n",
       "105315              0.0              NaN  \n",
       "105318              0.0              NaN  \n",
       "105319              0.0              NaN  \n",
       "105320              NaN              NaN  "
      ]
     },
     "execution_count": 13,
     "metadata": {},
     "output_type": "execute_result"
    }
   ],
   "source": [
    "# 输出购买数为0的后5条数据\n",
    "df_usr[df_usr['buy_num'] == 0].tail(5)"
   ]
  },
  {
   "cell_type": "code",
   "execution_count": 14,
   "metadata": {
    "collapsed": false,
    "deletable": true,
    "editable": true
   },
   "outputs": [],
   "source": [
    "# 删除购买数为0的用户\n",
    "df_usr = df_usr[df_usr['buy_num'] != 0]"
   ]
  },
  {
   "cell_type": "code",
   "execution_count": 15,
   "metadata": {
    "collapsed": false,
    "deletable": true,
    "editable": true
   },
   "outputs": [
    {
     "data": {
      "text/html": [
       "<div>\n",
       "<table border=\"1\" class=\"dataframe\">\n",
       "  <thead>\n",
       "    <tr style=\"text-align: right;\">\n",
       "      <th></th>\n",
       "      <th>user_id</th>\n",
       "      <th>age</th>\n",
       "      <th>sex</th>\n",
       "      <th>user_lv_cd</th>\n",
       "      <th>browse_num</th>\n",
       "      <th>addcart_num</th>\n",
       "      <th>delcart_num</th>\n",
       "      <th>buy_num</th>\n",
       "      <th>favor_num</th>\n",
       "      <th>click_num</th>\n",
       "      <th>buy_addcart_ratio</th>\n",
       "      <th>buy_browse_ratio</th>\n",
       "      <th>buy_click_ratio</th>\n",
       "      <th>buy_favor_ratio</th>\n",
       "    </tr>\n",
       "  </thead>\n",
       "  <tbody>\n",
       "    <tr>\n",
       "      <th>count</th>\n",
       "      <td>29,626.000</td>\n",
       "      <td>29,626.000</td>\n",
       "      <td>29,624.000</td>\n",
       "      <td>29,626.000</td>\n",
       "      <td>29,485.000</td>\n",
       "      <td>29,485.000</td>\n",
       "      <td>29,485.000</td>\n",
       "      <td>29,485.000</td>\n",
       "      <td>29,485.000</td>\n",
       "      <td>29,485.000</td>\n",
       "      <td>29,485.000</td>\n",
       "      <td>29,485.000</td>\n",
       "      <td>29,485.000</td>\n",
       "      <td>29,485.000</td>\n",
       "    </tr>\n",
       "    <tr>\n",
       "      <th>mean</th>\n",
       "      <td>250,738.984</td>\n",
       "      <td>2.011</td>\n",
       "      <td>1.025</td>\n",
       "      <td>4.268</td>\n",
       "      <td>302.475</td>\n",
       "      <td>10.525</td>\n",
       "      <td>4.673</td>\n",
       "      <td>1.636</td>\n",
       "      <td>1.677</td>\n",
       "      <td>486.637</td>\n",
       "      <td>0.360</td>\n",
       "      <td>0.018</td>\n",
       "      <td>0.030</td>\n",
       "      <td>0.862</td>\n",
       "    </tr>\n",
       "    <tr>\n",
       "      <th>std</th>\n",
       "      <td>29,987.018</td>\n",
       "      <td>1.240</td>\n",
       "      <td>0.959</td>\n",
       "      <td>0.812</td>\n",
       "      <td>391.525</td>\n",
       "      <td>14.301</td>\n",
       "      <td>7.568</td>\n",
       "      <td>1.412</td>\n",
       "      <td>4.584</td>\n",
       "      <td>658.654</td>\n",
       "      <td>0.320</td>\n",
       "      <td>0.038</td>\n",
       "      <td>0.136</td>\n",
       "      <td>0.287</td>\n",
       "    </tr>\n",
       "    <tr>\n",
       "      <th>min</th>\n",
       "      <td>200,001.000</td>\n",
       "      <td>-1.000</td>\n",
       "      <td>0.000</td>\n",
       "      <td>1.000</td>\n",
       "      <td>1.000</td>\n",
       "      <td>0.000</td>\n",
       "      <td>0.000</td>\n",
       "      <td>1.000</td>\n",
       "      <td>0.000</td>\n",
       "      <td>0.000</td>\n",
       "      <td>0.004</td>\n",
       "      <td>0.000</td>\n",
       "      <td>0.000</td>\n",
       "      <td>0.010</td>\n",
       "    </tr>\n",
       "    <tr>\n",
       "      <th>25%</th>\n",
       "      <td>225,040.500</td>\n",
       "      <td>2.000</td>\n",
       "      <td>0.000</td>\n",
       "      <td>4.000</td>\n",
       "      <td>76.000</td>\n",
       "      <td>3.000</td>\n",
       "      <td>0.000</td>\n",
       "      <td>1.000</td>\n",
       "      <td>0.000</td>\n",
       "      <td>116.000</td>\n",
       "      <td>0.118</td>\n",
       "      <td>0.004</td>\n",
       "      <td>0.002</td>\n",
       "      <td>1.000</td>\n",
       "    </tr>\n",
       "    <tr>\n",
       "      <th>50%</th>\n",
       "      <td>249,144.500</td>\n",
       "      <td>2.000</td>\n",
       "      <td>1.000</td>\n",
       "      <td>4.000</td>\n",
       "      <td>178.000</td>\n",
       "      <td>6.000</td>\n",
       "      <td>2.000</td>\n",
       "      <td>1.000</td>\n",
       "      <td>0.000</td>\n",
       "      <td>282.000</td>\n",
       "      <td>0.250</td>\n",
       "      <td>0.008</td>\n",
       "      <td>0.005</td>\n",
       "      <td>1.000</td>\n",
       "    </tr>\n",
       "    <tr>\n",
       "      <th>75%</th>\n",
       "      <td>276,253.250</td>\n",
       "      <td>3.000</td>\n",
       "      <td>2.000</td>\n",
       "      <td>5.000</td>\n",
       "      <td>381.000</td>\n",
       "      <td>13.000</td>\n",
       "      <td>6.000</td>\n",
       "      <td>2.000</td>\n",
       "      <td>1.000</td>\n",
       "      <td>604.000</td>\n",
       "      <td>0.500</td>\n",
       "      <td>0.018</td>\n",
       "      <td>0.012</td>\n",
       "      <td>1.000</td>\n",
       "    </tr>\n",
       "    <tr>\n",
       "      <th>max</th>\n",
       "      <td>305,318.000</td>\n",
       "      <td>5.000</td>\n",
       "      <td>2.000</td>\n",
       "      <td>5.000</td>\n",
       "      <td>7,605.000</td>\n",
       "      <td>288.000</td>\n",
       "      <td>178.000</td>\n",
       "      <td>50.000</td>\n",
       "      <td>96.000</td>\n",
       "      <td>15,302.000</td>\n",
       "      <td>1.000</td>\n",
       "      <td>1.000</td>\n",
       "      <td>1.000</td>\n",
       "      <td>1.000</td>\n",
       "    </tr>\n",
       "  </tbody>\n",
       "</table>\n",
       "</div>"
      ],
      "text/plain": [
       "          user_id        age        sex  user_lv_cd  browse_num  addcart_num  \\\n",
       "count  29,626.000 29,626.000 29,624.000  29,626.000  29,485.000   29,485.000   \n",
       "mean  250,738.984      2.011      1.025       4.268     302.475       10.525   \n",
       "std    29,987.018      1.240      0.959       0.812     391.525       14.301   \n",
       "min   200,001.000     -1.000      0.000       1.000       1.000        0.000   \n",
       "25%   225,040.500      2.000      0.000       4.000      76.000        3.000   \n",
       "50%   249,144.500      2.000      1.000       4.000     178.000        6.000   \n",
       "75%   276,253.250      3.000      2.000       5.000     381.000       13.000   \n",
       "max   305,318.000      5.000      2.000       5.000   7,605.000      288.000   \n",
       "\n",
       "       delcart_num    buy_num  favor_num  click_num  buy_addcart_ratio  \\\n",
       "count   29,485.000 29,485.000 29,485.000 29,485.000         29,485.000   \n",
       "mean         4.673      1.636      1.677    486.637              0.360   \n",
       "std          7.568      1.412      4.584    658.654              0.320   \n",
       "min          0.000      1.000      0.000      0.000              0.004   \n",
       "25%          0.000      1.000      0.000    116.000              0.118   \n",
       "50%          2.000      1.000      0.000    282.000              0.250   \n",
       "75%          6.000      2.000      1.000    604.000              0.500   \n",
       "max        178.000     50.000     96.000 15,302.000              1.000   \n",
       "\n",
       "       buy_browse_ratio  buy_click_ratio  buy_favor_ratio  \n",
       "count        29,485.000       29,485.000       29,485.000  \n",
       "mean              0.018            0.030            0.862  \n",
       "std               0.038            0.136            0.287  \n",
       "min               0.000            0.000            0.010  \n",
       "25%               0.004            0.002            1.000  \n",
       "50%               0.008            0.005            1.000  \n",
       "75%               0.018            0.012            1.000  \n",
       "max               1.000            1.000            1.000  "
      ]
     },
     "execution_count": 15,
     "metadata": {},
     "output_type": "execute_result"
    }
   ],
   "source": [
    "# 输出格式设置，保留三位小数\n",
    "pd.options.display.float_format = '{:,.3f}'.format\n",
    "\n",
    "# 输出user table的统计信息,包括\n",
    "# 总数，均值，方差，最小值，1/4分位数，1/2分位数，3/4分位数，最大值\n",
    "df_usr.describe()"
   ]
  },
  {
   "cell_type": "code",
   "execution_count": 16,
   "metadata": {
    "collapsed": false,
    "deletable": true,
    "editable": true,
    "scrolled": true
   },
   "outputs": [
    {
     "data": {
      "text/html": [
       "<div>\n",
       "<table border=\"1\" class=\"dataframe\">\n",
       "  <thead>\n",
       "    <tr style=\"text-align: right;\">\n",
       "      <th></th>\n",
       "      <th>user_id</th>\n",
       "      <th>age</th>\n",
       "      <th>sex</th>\n",
       "      <th>user_lv_cd</th>\n",
       "      <th>browse_num</th>\n",
       "      <th>addcart_num</th>\n",
       "      <th>delcart_num</th>\n",
       "      <th>buy_num</th>\n",
       "      <th>favor_num</th>\n",
       "      <th>click_num</th>\n",
       "      <th>buy_addcart_ratio</th>\n",
       "      <th>buy_browse_ratio</th>\n",
       "      <th>buy_click_ratio</th>\n",
       "      <th>buy_favor_ratio</th>\n",
       "    </tr>\n",
       "  </thead>\n",
       "  <tbody>\n",
       "    <tr>\n",
       "      <th>7080</th>\n",
       "      <td>207081</td>\n",
       "      <td>2</td>\n",
       "      <td>0.000</td>\n",
       "      <td>5</td>\n",
       "      <td>6,230.000</td>\n",
       "      <td>48.000</td>\n",
       "      <td>40.000</td>\n",
       "      <td>1.000</td>\n",
       "      <td>96.000</td>\n",
       "      <td>9,733.000</td>\n",
       "      <td>0.021</td>\n",
       "      <td>0.000</td>\n",
       "      <td>0.000</td>\n",
       "      <td>0.010</td>\n",
       "    </tr>\n",
       "    <tr>\n",
       "      <th>12089</th>\n",
       "      <td>212090</td>\n",
       "      <td>3</td>\n",
       "      <td>0.000</td>\n",
       "      <td>5</td>\n",
       "      <td>6,229.000</td>\n",
       "      <td>185.000</td>\n",
       "      <td>178.000</td>\n",
       "      <td>1.000</td>\n",
       "      <td>1.000</td>\n",
       "      <td>9,821.000</td>\n",
       "      <td>0.005</td>\n",
       "      <td>0.000</td>\n",
       "      <td>0.000</td>\n",
       "      <td>1.000</td>\n",
       "    </tr>\n",
       "  </tbody>\n",
       "</table>\n",
       "</div>"
      ],
      "text/plain": [
       "       user_id  age   sex  user_lv_cd  browse_num  addcart_num  delcart_num  \\\n",
       "7080    207081    2 0.000           5   6,230.000       48.000       40.000   \n",
       "12089   212090    3 0.000           5   6,229.000      185.000      178.000   \n",
       "\n",
       "       buy_num  favor_num  click_num  buy_addcart_ratio  buy_browse_ratio  \\\n",
       "7080     1.000     96.000  9,733.000              0.021             0.000   \n",
       "12089    1.000      1.000  9,821.000              0.005             0.000   \n",
       "\n",
       "       buy_click_ratio  buy_favor_ratio  \n",
       "7080             0.000            0.010  \n",
       "12089            0.000            1.000  "
      ]
     },
     "execution_count": 16,
     "metadata": {},
     "output_type": "execute_result"
    }
   ],
   "source": [
    "# 查看购买数为１而浏览数大于8000的用户\n",
    "df_usr[(df_usr['buy_num'] < 2) & (df_usr['browse_num'] > 6000)]"
   ]
  },
  {
   "cell_type": "code",
   "execution_count": null,
   "metadata": {
    "collapsed": true,
    "deletable": true,
    "editable": true
   },
   "outputs": [],
   "source": []
  }
 ],
 "metadata": {
  "kernelspec": {
   "display_name": "Python 2",
   "language": "python",
   "name": "python2"
  },
  "language_info": {
   "codemirror_mode": {
    "name": "ipython",
    "version": 2
   },
   "file_extension": ".py",
   "mimetype": "text/x-python",
   "name": "python",
   "nbconvert_exporter": "python",
   "pygments_lexer": "ipython2",
   "version": "2.7.13"
  }
 },
 "nbformat": 4,
 "nbformat_minor": 0
}
